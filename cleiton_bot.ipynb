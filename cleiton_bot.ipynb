{
 "cells": [
  {
   "cell_type": "code",
   "execution_count": 1,
   "id": "6dc06bf3",
   "metadata": {},
   "outputs": [
    {
     "name": "stdout",
     "output_type": "stream",
     "text": [
      "💵 DÓLAR ESTÁ VALENDO R$:5.2435\n",
      "💶 EURO ESTÁ VALENDO R$:5.537765220000001\n",
      "💸BITCOIN ESTÁ VALENDO R$:111.336,81\n",
      "💰DESDE O COMEÇO DO ANOATÉ AGORA O BRASIL JÁ PAGOU EM IMPOSTO\n",
      " R$1.385.089.321.878,23\n"
     ]
    },
    {
     "data": {
      "text/plain": [
       "Status(_api=<tweepy.api.API object at 0x000001A997AB5880>, _json={'created_at': 'Sat Jun 25 05:07:01 +0000 2022', 'id': 1540562182269706242, 'id_str': '1540562182269706242', 'text': '💵 DÓLAR ESTÁ VALENDO R$:5.2435\\n💶 EURO ESTÁ VALENDO R$:5.537765220000001\\n💸BITCOIN ESTÁ VALENDO R$:111.336,81\\n💰DESDE… https://t.co/2h94tP8Hjo', 'truncated': True, 'entities': {'hashtags': [], 'symbols': [], 'user_mentions': [], 'urls': [{'url': 'https://t.co/2h94tP8Hjo', 'expanded_url': 'https://twitter.com/i/web/status/1540562182269706242', 'display_url': 'twitter.com/i/web/status/1…', 'indices': [116, 139]}]}, 'source': '<a href=\"https://dudrt.github.io/naosei/\" rel=\"nofollow\">cleiton_ia</a>', 'in_reply_to_status_id': None, 'in_reply_to_status_id_str': None, 'in_reply_to_user_id': None, 'in_reply_to_user_id_str': None, 'in_reply_to_screen_name': None, 'user': {'id': 1539790993054220288, 'id_str': '1539790993054220288', 'name': 'Cleiton o Bot', 'screen_name': 'CLEITON_IA', 'location': '', 'description': 'Eai mano, as vezes eu posto uns negócios quando o corno que hospeda meu código liga o pc👍\\n\\nUpdates coming soon🤖', 'url': None, 'entities': {'description': {'urls': []}}, 'protected': False, 'followers_count': 3, 'friends_count': 1, 'listed_count': 0, 'created_at': 'Thu Jun 23 02:02:49 +0000 2022', 'favourites_count': 1, 'utc_offset': None, 'time_zone': None, 'geo_enabled': False, 'verified': False, 'statuses_count': 4, 'lang': None, 'contributors_enabled': False, 'is_translator': False, 'is_translation_enabled': False, 'profile_background_color': 'F5F8FA', 'profile_background_image_url': None, 'profile_background_image_url_https': None, 'profile_background_tile': False, 'profile_image_url': 'http://pbs.twimg.com/profile_images/1540030241690763267/wE-6ox89_normal.jpg', 'profile_image_url_https': 'https://pbs.twimg.com/profile_images/1540030241690763267/wE-6ox89_normal.jpg', 'profile_link_color': '1DA1F2', 'profile_sidebar_border_color': 'C0DEED', 'profile_sidebar_fill_color': 'DDEEF6', 'profile_text_color': '333333', 'profile_use_background_image': True, 'has_extended_profile': True, 'default_profile': True, 'default_profile_image': False, 'following': False, 'follow_request_sent': False, 'notifications': False, 'translator_type': 'none', 'withheld_in_countries': []}, 'geo': None, 'coordinates': None, 'place': None, 'contributors': None, 'is_quote_status': False, 'retweet_count': 0, 'favorite_count': 0, 'favorited': False, 'retweeted': False, 'lang': 'pt'}, created_at=datetime.datetime(2022, 6, 25, 5, 7, 1, tzinfo=datetime.timezone.utc), id=1540562182269706242, id_str='1540562182269706242', text='💵 DÓLAR ESTÁ VALENDO R$:5.2435\\n💶 EURO ESTÁ VALENDO R$:5.537765220000001\\n💸BITCOIN ESTÁ VALENDO R$:111.336,81\\n💰DESDE… https://t.co/2h94tP8Hjo', truncated=True, entities={'hashtags': [], 'symbols': [], 'user_mentions': [], 'urls': [{'url': 'https://t.co/2h94tP8Hjo', 'expanded_url': 'https://twitter.com/i/web/status/1540562182269706242', 'display_url': 'twitter.com/i/web/status/1…', 'indices': [116, 139]}]}, source='cleiton_ia', source_url='https://dudrt.github.io/naosei/', in_reply_to_status_id=None, in_reply_to_status_id_str=None, in_reply_to_user_id=None, in_reply_to_user_id_str=None, in_reply_to_screen_name=None, author=User(_api=<tweepy.api.API object at 0x000001A997AB5880>, _json={'id': 1539790993054220288, 'id_str': '1539790993054220288', 'name': 'Cleiton o Bot', 'screen_name': 'CLEITON_IA', 'location': '', 'description': 'Eai mano, as vezes eu posto uns negócios quando o corno que hospeda meu código liga o pc👍\\n\\nUpdates coming soon🤖', 'url': None, 'entities': {'description': {'urls': []}}, 'protected': False, 'followers_count': 3, 'friends_count': 1, 'listed_count': 0, 'created_at': 'Thu Jun 23 02:02:49 +0000 2022', 'favourites_count': 1, 'utc_offset': None, 'time_zone': None, 'geo_enabled': False, 'verified': False, 'statuses_count': 4, 'lang': None, 'contributors_enabled': False, 'is_translator': False, 'is_translation_enabled': False, 'profile_background_color': 'F5F8FA', 'profile_background_image_url': None, 'profile_background_image_url_https': None, 'profile_background_tile': False, 'profile_image_url': 'http://pbs.twimg.com/profile_images/1540030241690763267/wE-6ox89_normal.jpg', 'profile_image_url_https': 'https://pbs.twimg.com/profile_images/1540030241690763267/wE-6ox89_normal.jpg', 'profile_link_color': '1DA1F2', 'profile_sidebar_border_color': 'C0DEED', 'profile_sidebar_fill_color': 'DDEEF6', 'profile_text_color': '333333', 'profile_use_background_image': True, 'has_extended_profile': True, 'default_profile': True, 'default_profile_image': False, 'following': False, 'follow_request_sent': False, 'notifications': False, 'translator_type': 'none', 'withheld_in_countries': []}, id=1539790993054220288, id_str='1539790993054220288', name='Cleiton o Bot', screen_name='CLEITON_IA', location='', description='Eai mano, as vezes eu posto uns negócios quando o corno que hospeda meu código liga o pc👍\\n\\nUpdates coming soon🤖', url=None, entities={'description': {'urls': []}}, protected=False, followers_count=3, friends_count=1, listed_count=0, created_at=datetime.datetime(2022, 6, 23, 2, 2, 49, tzinfo=datetime.timezone.utc), favourites_count=1, utc_offset=None, time_zone=None, geo_enabled=False, verified=False, statuses_count=4, lang=None, contributors_enabled=False, is_translator=False, is_translation_enabled=False, profile_background_color='F5F8FA', profile_background_image_url=None, profile_background_image_url_https=None, profile_background_tile=False, profile_image_url='http://pbs.twimg.com/profile_images/1540030241690763267/wE-6ox89_normal.jpg', profile_image_url_https='https://pbs.twimg.com/profile_images/1540030241690763267/wE-6ox89_normal.jpg', profile_link_color='1DA1F2', profile_sidebar_border_color='C0DEED', profile_sidebar_fill_color='DDEEF6', profile_text_color='333333', profile_use_background_image=True, has_extended_profile=True, default_profile=True, default_profile_image=False, following=False, follow_request_sent=False, notifications=False, translator_type='none', withheld_in_countries=[]), user=User(_api=<tweepy.api.API object at 0x000001A997AB5880>, _json={'id': 1539790993054220288, 'id_str': '1539790993054220288', 'name': 'Cleiton o Bot', 'screen_name': 'CLEITON_IA', 'location': '', 'description': 'Eai mano, as vezes eu posto uns negócios quando o corno que hospeda meu código liga o pc👍\\n\\nUpdates coming soon🤖', 'url': None, 'entities': {'description': {'urls': []}}, 'protected': False, 'followers_count': 3, 'friends_count': 1, 'listed_count': 0, 'created_at': 'Thu Jun 23 02:02:49 +0000 2022', 'favourites_count': 1, 'utc_offset': None, 'time_zone': None, 'geo_enabled': False, 'verified': False, 'statuses_count': 4, 'lang': None, 'contributors_enabled': False, 'is_translator': False, 'is_translation_enabled': False, 'profile_background_color': 'F5F8FA', 'profile_background_image_url': None, 'profile_background_image_url_https': None, 'profile_background_tile': False, 'profile_image_url': 'http://pbs.twimg.com/profile_images/1540030241690763267/wE-6ox89_normal.jpg', 'profile_image_url_https': 'https://pbs.twimg.com/profile_images/1540030241690763267/wE-6ox89_normal.jpg', 'profile_link_color': '1DA1F2', 'profile_sidebar_border_color': 'C0DEED', 'profile_sidebar_fill_color': 'DDEEF6', 'profile_text_color': '333333', 'profile_use_background_image': True, 'has_extended_profile': True, 'default_profile': True, 'default_profile_image': False, 'following': False, 'follow_request_sent': False, 'notifications': False, 'translator_type': 'none', 'withheld_in_countries': []}, id=1539790993054220288, id_str='1539790993054220288', name='Cleiton o Bot', screen_name='CLEITON_IA', location='', description='Eai mano, as vezes eu posto uns negócios quando o corno que hospeda meu código liga o pc👍\\n\\nUpdates coming soon🤖', url=None, entities={'description': {'urls': []}}, protected=False, followers_count=3, friends_count=1, listed_count=0, created_at=datetime.datetime(2022, 6, 23, 2, 2, 49, tzinfo=datetime.timezone.utc), favourites_count=1, utc_offset=None, time_zone=None, geo_enabled=False, verified=False, statuses_count=4, lang=None, contributors_enabled=False, is_translator=False, is_translation_enabled=False, profile_background_color='F5F8FA', profile_background_image_url=None, profile_background_image_url_https=None, profile_background_tile=False, profile_image_url='http://pbs.twimg.com/profile_images/1540030241690763267/wE-6ox89_normal.jpg', profile_image_url_https='https://pbs.twimg.com/profile_images/1540030241690763267/wE-6ox89_normal.jpg', profile_link_color='1DA1F2', profile_sidebar_border_color='C0DEED', profile_sidebar_fill_color='DDEEF6', profile_text_color='333333', profile_use_background_image=True, has_extended_profile=True, default_profile=True, default_profile_image=False, following=False, follow_request_sent=False, notifications=False, translator_type='none', withheld_in_countries=[]), geo=None, coordinates=None, place=None, contributors=None, is_quote_status=False, retweet_count=0, favorite_count=0, favorited=False, retweeted=False, lang='pt')"
      ]
     },
     "execution_count": 1,
     "metadata": {},
     "output_type": "execute_result"
    }
   ],
   "source": [
    "from selenium import webdriver\n",
    "from selenium.webdriver.common.keys import Keys\n",
    "import pandas as pd\n",
    "import tweepy\n",
    "\n",
    "chrome=webdriver.Chrome()\n",
    "\n",
    "#pegar o dolar\n",
    "chrome.get(\"https://www.google.com.br/\")\n",
    "\n",
    "chrome.find_element_by_name('q').send_keys(\"dolar\")\n",
    "chrome.find_element_by_name('q').send_keys(Keys.ENTER)\n",
    "dolar=chrome.find_element_by_xpath(\n",
    "    '//*[@id=\"knowledge-currency__updatable-data-column\"]/div[1]/div[2]/span[1]'\n",
    ").get_attribute(\"data-value\")\n",
    "\n",
    "printdolar=\"💵 DÓLAR ESTÁ VALENDO R$:\"+dolar\n",
    "#fim pegar dolar\n",
    "#pegar euro\n",
    "chrome.get(\"https://www.google.com.br/\")\n",
    "chrome.find_element_by_name('q').send_keys(\"euro\")\n",
    "chrome.find_element_by_name('q').send_keys(Keys.ENTER)\n",
    "\n",
    "euro=chrome.find_element_by_xpath(\n",
    "    '//*[@id=\"knowledge-currency__updatable-data-column\"]/div[1]/div[2]/span[1]'\n",
    ").get_attribute(\"data-value\")\n",
    "\n",
    "printeuro=\"💶 EURO ESTÁ VALENDO R$:\"+euro\n",
    "\n",
    "#fim pegar euro\n",
    "#pegar bitcoin\n",
    "\n",
    "chrome.get(\"https://www.google.com.br/\")\n",
    "chrome.find_element_by_name('q').send_keys(\"bitcoin\")\n",
    "chrome.find_element_by_name('q').send_keys(Keys.ENTER)\n",
    "bitcoin=chrome.find_element_by_xpath(\n",
    "    '//*[@id=\"crypto-updatable_2\"]/div[3]/div[2]/span[1]').text\n",
    "\n",
    "printbit=\"💸BITCOIN ESTÁ VALENDO R$:\"+bitcoin\n",
    "\n",
    "#---------------------------pegar imposto-----------------------------------------------------------------\n",
    "impostototal=[]\n",
    "impostoformat=[]\n",
    "nu=\"\"\n",
    "chrome.get(\"https://impostometro.com.br/\")\n",
    "imposto=chrome.find_element_by_id('counterBrasil').text\n",
    "\n",
    "tamanho=len(imposto)\n",
    "\n",
    "\n",
    "for i in range (tamanho):\n",
    "    testenumero=imposto[i].isnumeric()\n",
    "    if testenumero:\n",
    "        impostototal.append(imposto[i])\n",
    "    \n",
    "\n",
    "#-------------------------------------formatar o imposto--------------------------------------\n",
    "tamanhoimp=len(impostototal)\n",
    "impostoformat.insert(0,impostototal[tamanhoimp-1])\n",
    "impostoformat.insert(0,impostototal[tamanhoimp-2])\n",
    "impostoformat.insert(0,',')\n",
    "tamanhoimp=tamanhoimp-2\n",
    "local=tamanhoimp\n",
    "a=0\n",
    "\n",
    "while tamanhoimp >=1:\n",
    "    a=a+1\n",
    "    if a==4:\n",
    "        impostoformat.insert(0,'.')\n",
    "        a=0\n",
    "    else:\n",
    "        local=local-1\n",
    "        impostoformat.insert(0,impostototal[local])\n",
    "        tamanhoimp=tamanhoimp-1\n",
    "    \n",
    "for n in impostoformat:\n",
    "    nu+=n\n",
    "\n",
    "printimposto=\"💰DESDE O COMEÇO DO ANO ATÉ AGORA O BRASIL JÁ PAGOU EM IMPOSTO\\n R$\"+nu\n",
    "    \n",
    "\n",
    "\n",
    "#fim pegar imposto\n",
    "print(printdolar)\n",
    "print(printeuro)\n",
    "print(printbit)\n",
    "print(printimposto)\n",
    "\n",
    "#-------------------------------------------------entrar no twitter e publicar--------------------------\n",
    "\n",
    "auth=tweepy.OAuthHandler('USqLBQ0zjqbcev8okvdBAKXyS','PSmnGWY7aOV5jNa5Eq7XHlr6ZDHuGhRYi8mwOcInt0K9BUCUEG')\n",
    "auth.set_access_token('1539790993054220288-XpoKDanVudK6jWec9NZ9QabyluaAUC','YScK8t2xcbgYMjCekIuqqin1EY9F9lvow4c7yKcEiX5AK')\n",
    "\n",
    "tweet=tweepy.API(auth)\n",
    "\n",
    "tweet.update_status(printdolar+'\\n'+printeuro+'\\n'+printbit+'\\n'+printimposto)"
   ]
  },
  {
   "cell_type": "code",
   "execution_count": 49,
   "id": "c8bc6750",
   "metadata": {
    "scrolled": true
   },
   "outputs": [
    {
     "name": "stdout",
     "output_type": "stream",
     "text": [
      "['1', '.', '3', '6', '9', '.', '0', '5', '4', '.', '5', '3', '3', '.', '9', '5', '8', ',', '9', '0']\n",
      "['1', '3', '6', '9', '0', '5', '4', '5', '3', '3', '9', '5', '8', '9', '0']\n",
      "1.369.054.533.958,90\n"
     ]
    }
   ],
   "source": [
    "from selenium import webdriver\n",
    "from selenium.webdriver.common.keys import Keys\n",
    "import pandas as pd\n",
    "impostototal=[]\n",
    "impostoformat=[]\n",
    "nu=\"\"\n",
    "chrome=webdriver.Chrome()\n",
    "chrome.get(\"https://impostometro.com.br/\")\n",
    "imposto=chrome.find_element_by_id('counterBrasil').text\n",
    "\n",
    "tamanho=len(imposto)\n",
    "\n",
    "\n",
    "for i in range (tamanho):\n",
    "    testenumero=imposto[i].isnumeric()\n",
    "    if testenumero:\n",
    "        impostototal.append(imposto[i])\n",
    "    \n",
    "\n",
    "#formatar o imposto\n",
    "tamanhoimp=len(impostototal)\n",
    "impostoformat.insert(0,impostototal[tamanhoimp-1])\n",
    "impostoformat.insert(0,impostototal[tamanhoimp-2])\n",
    "impostoformat.insert(0,',')\n",
    "tamanhoimp=tamanhoimp-2\n",
    "local=tamanhoimp\n",
    "a=0\n",
    "\n",
    "while tamanhoimp >=1:\n",
    "    a=a+1\n",
    "    if a==4:\n",
    "        impostoformat.insert(0,'.')\n",
    "        a=0\n",
    "    else:\n",
    "        local=local-1\n",
    "        impostoformat.insert(0,impostototal[local])\n",
    "        tamanhoimp=tamanhoimp-1\n",
    "    \n",
    "for n in impostoformat:\n",
    "    nu+=n\n",
    "print(impostoformat)\n",
    "print(impostototal)\n",
    "print(nu)\n",
    "\n",
    "#fim formatar o imposto\n",
    "\n",
    "\n",
    "\n",
    "\n",
    "\n"
   ]
  },
  {
   "cell_type": "code",
   "execution_count": 2,
   "id": "28c9462b",
   "metadata": {},
   "outputs": [
    {
     "data": {
      "text/plain": [
       "Status(_api=<tweepy.api.API object at 0x00000162B389C910>, _json={'created_at': 'Thu Jun 23 17:40:59 +0000 2022', 'id': 1540027147951251460, 'id_str': '1540027147951251460', 'text': 'alwdawdaw', 'truncated': False, 'entities': {'hashtags': [], 'symbols': [], 'user_mentions': [], 'urls': []}, 'source': '<a href=\"https://dudrt.github.io/naosei/\" rel=\"nofollow\">cleiton_ia</a>', 'in_reply_to_status_id': None, 'in_reply_to_status_id_str': None, 'in_reply_to_user_id': None, 'in_reply_to_user_id_str': None, 'in_reply_to_screen_name': None, 'user': {'id': 1539790993054220288, 'id_str': '1539790993054220288', 'name': 'Eduardo Roth', 'screen_name': 'CLEITON_IA', 'location': '', 'description': 'Olá', 'url': None, 'entities': {'description': {'urls': []}}, 'protected': False, 'followers_count': 0, 'friends_count': 1, 'listed_count': 0, 'created_at': 'Thu Jun 23 02:02:49 +0000 2022', 'favourites_count': 0, 'utc_offset': None, 'time_zone': None, 'geo_enabled': False, 'verified': False, 'statuses_count': 1, 'lang': None, 'contributors_enabled': False, 'is_translator': False, 'is_translation_enabled': False, 'profile_background_color': 'F5F8FA', 'profile_background_image_url': None, 'profile_background_image_url_https': None, 'profile_background_tile': False, 'profile_image_url': 'http://pbs.twimg.com/profile_images/1539791053032759297/IpP_5L2D_normal.png', 'profile_image_url_https': 'https://pbs.twimg.com/profile_images/1539791053032759297/IpP_5L2D_normal.png', 'profile_link_color': '1DA1F2', 'profile_sidebar_border_color': 'C0DEED', 'profile_sidebar_fill_color': 'DDEEF6', 'profile_text_color': '333333', 'profile_use_background_image': True, 'has_extended_profile': True, 'default_profile': True, 'default_profile_image': False, 'following': False, 'follow_request_sent': False, 'notifications': False, 'translator_type': 'none', 'withheld_in_countries': []}, 'geo': None, 'coordinates': None, 'place': None, 'contributors': None, 'is_quote_status': False, 'retweet_count': 0, 'favorite_count': 0, 'favorited': False, 'retweeted': False, 'lang': 'cy'}, created_at=datetime.datetime(2022, 6, 23, 17, 40, 59, tzinfo=datetime.timezone.utc), id=1540027147951251460, id_str='1540027147951251460', text='alwdawdaw', truncated=False, entities={'hashtags': [], 'symbols': [], 'user_mentions': [], 'urls': []}, source='cleiton_ia', source_url='https://dudrt.github.io/naosei/', in_reply_to_status_id=None, in_reply_to_status_id_str=None, in_reply_to_user_id=None, in_reply_to_user_id_str=None, in_reply_to_screen_name=None, author=User(_api=<tweepy.api.API object at 0x00000162B389C910>, _json={'id': 1539790993054220288, 'id_str': '1539790993054220288', 'name': 'Eduardo Roth', 'screen_name': 'CLEITON_IA', 'location': '', 'description': 'Olá', 'url': None, 'entities': {'description': {'urls': []}}, 'protected': False, 'followers_count': 0, 'friends_count': 1, 'listed_count': 0, 'created_at': 'Thu Jun 23 02:02:49 +0000 2022', 'favourites_count': 0, 'utc_offset': None, 'time_zone': None, 'geo_enabled': False, 'verified': False, 'statuses_count': 1, 'lang': None, 'contributors_enabled': False, 'is_translator': False, 'is_translation_enabled': False, 'profile_background_color': 'F5F8FA', 'profile_background_image_url': None, 'profile_background_image_url_https': None, 'profile_background_tile': False, 'profile_image_url': 'http://pbs.twimg.com/profile_images/1539791053032759297/IpP_5L2D_normal.png', 'profile_image_url_https': 'https://pbs.twimg.com/profile_images/1539791053032759297/IpP_5L2D_normal.png', 'profile_link_color': '1DA1F2', 'profile_sidebar_border_color': 'C0DEED', 'profile_sidebar_fill_color': 'DDEEF6', 'profile_text_color': '333333', 'profile_use_background_image': True, 'has_extended_profile': True, 'default_profile': True, 'default_profile_image': False, 'following': False, 'follow_request_sent': False, 'notifications': False, 'translator_type': 'none', 'withheld_in_countries': []}, id=1539790993054220288, id_str='1539790993054220288', name='Eduardo Roth', screen_name='CLEITON_IA', location='', description='Olá', url=None, entities={'description': {'urls': []}}, protected=False, followers_count=0, friends_count=1, listed_count=0, created_at=datetime.datetime(2022, 6, 23, 2, 2, 49, tzinfo=datetime.timezone.utc), favourites_count=0, utc_offset=None, time_zone=None, geo_enabled=False, verified=False, statuses_count=1, lang=None, contributors_enabled=False, is_translator=False, is_translation_enabled=False, profile_background_color='F5F8FA', profile_background_image_url=None, profile_background_image_url_https=None, profile_background_tile=False, profile_image_url='http://pbs.twimg.com/profile_images/1539791053032759297/IpP_5L2D_normal.png', profile_image_url_https='https://pbs.twimg.com/profile_images/1539791053032759297/IpP_5L2D_normal.png', profile_link_color='1DA1F2', profile_sidebar_border_color='C0DEED', profile_sidebar_fill_color='DDEEF6', profile_text_color='333333', profile_use_background_image=True, has_extended_profile=True, default_profile=True, default_profile_image=False, following=False, follow_request_sent=False, notifications=False, translator_type='none', withheld_in_countries=[]), user=User(_api=<tweepy.api.API object at 0x00000162B389C910>, _json={'id': 1539790993054220288, 'id_str': '1539790993054220288', 'name': 'Eduardo Roth', 'screen_name': 'CLEITON_IA', 'location': '', 'description': 'Olá', 'url': None, 'entities': {'description': {'urls': []}}, 'protected': False, 'followers_count': 0, 'friends_count': 1, 'listed_count': 0, 'created_at': 'Thu Jun 23 02:02:49 +0000 2022', 'favourites_count': 0, 'utc_offset': None, 'time_zone': None, 'geo_enabled': False, 'verified': False, 'statuses_count': 1, 'lang': None, 'contributors_enabled': False, 'is_translator': False, 'is_translation_enabled': False, 'profile_background_color': 'F5F8FA', 'profile_background_image_url': None, 'profile_background_image_url_https': None, 'profile_background_tile': False, 'profile_image_url': 'http://pbs.twimg.com/profile_images/1539791053032759297/IpP_5L2D_normal.png', 'profile_image_url_https': 'https://pbs.twimg.com/profile_images/1539791053032759297/IpP_5L2D_normal.png', 'profile_link_color': '1DA1F2', 'profile_sidebar_border_color': 'C0DEED', 'profile_sidebar_fill_color': 'DDEEF6', 'profile_text_color': '333333', 'profile_use_background_image': True, 'has_extended_profile': True, 'default_profile': True, 'default_profile_image': False, 'following': False, 'follow_request_sent': False, 'notifications': False, 'translator_type': 'none', 'withheld_in_countries': []}, id=1539790993054220288, id_str='1539790993054220288', name='Eduardo Roth', screen_name='CLEITON_IA', location='', description='Olá', url=None, entities={'description': {'urls': []}}, protected=False, followers_count=0, friends_count=1, listed_count=0, created_at=datetime.datetime(2022, 6, 23, 2, 2, 49, tzinfo=datetime.timezone.utc), favourites_count=0, utc_offset=None, time_zone=None, geo_enabled=False, verified=False, statuses_count=1, lang=None, contributors_enabled=False, is_translator=False, is_translation_enabled=False, profile_background_color='F5F8FA', profile_background_image_url=None, profile_background_image_url_https=None, profile_background_tile=False, profile_image_url='http://pbs.twimg.com/profile_images/1539791053032759297/IpP_5L2D_normal.png', profile_image_url_https='https://pbs.twimg.com/profile_images/1539791053032759297/IpP_5L2D_normal.png', profile_link_color='1DA1F2', profile_sidebar_border_color='C0DEED', profile_sidebar_fill_color='DDEEF6', profile_text_color='333333', profile_use_background_image=True, has_extended_profile=True, default_profile=True, default_profile_image=False, following=False, follow_request_sent=False, notifications=False, translator_type='none', withheld_in_countries=[]), geo=None, coordinates=None, place=None, contributors=None, is_quote_status=False, retweet_count=0, favorite_count=0, favorited=False, retweeted=False, lang='cy')"
      ]
     },
     "execution_count": 2,
     "metadata": {},
     "output_type": "execute_result"
    }
   ],
   "source": [
    "\n",
    "auth=tweepy.OAuthHandler('USqLBQ0zjqbcev8okvdBAKXyS','PSmnGWY7aOV5jNa5Eq7XHlr6ZDHuGhRYi8mwOcInt0K9BUCUEG')\n",
    "auth.set_access_token('1539790993054220288-XpoKDanVudK6jWec9NZ9QabyluaAUC','YScK8t2xcbgYMjCekIuqqin1EY9F9lvow4c7yKcEiX5AK')\n",
    "\n",
    "tweet=tweepy.API(auth)\n",
    "\n",
    "tweet.update_status('alwdawdaw')"
   ]
  },
  {
   "cell_type": "code",
   "execution_count": null,
   "id": "30ab3cc7",
   "metadata": {},
   "outputs": [],
   "source": []
  }
 ],
 "metadata": {
  "kernelspec": {
   "display_name": "Python 3",
   "language": "python",
   "name": "python3"
  },
  "language_info": {
   "codemirror_mode": {
    "name": "ipython",
    "version": 3
   },
   "file_extension": ".py",
   "mimetype": "text/x-python",
   "name": "python",
   "nbconvert_exporter": "python",
   "pygments_lexer": "ipython3",
   "version": "3.8.8"
  }
 },
 "nbformat": 4,
 "nbformat_minor": 5
}
